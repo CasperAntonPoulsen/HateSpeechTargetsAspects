{
 "cells": [
  {
   "cell_type": "code",
   "execution_count": 17,
   "metadata": {},
   "outputs": [],
   "source": [
    "import deepl\n",
    "import pandas as pd\n",
    "import json\n"
   ]
  },
  {
   "cell_type": "code",
   "execution_count": 9,
   "metadata": {},
   "outputs": [],
   "source": [
    "translator = deepl.Translator(\"e80de3a8-6e58-9bc4-b9e8-a4e5292d9dee:fx\")"
   ]
  },
  {
   "cell_type": "code",
   "execution_count": 18,
   "metadata": {},
   "outputs": [],
   "source": [
    "dev_set_ids = json.load(open(\"data/post_ids_dev.json\", \"r\"))\n",
    "test_set_ids = json.load(open(\"data/post_ids_test.json\", \"r\"))"
   ]
  },
  {
   "cell_type": "code",
   "execution_count": 3,
   "metadata": {},
   "outputs": [],
   "source": [
    "main_df = pd.read_csv(\"data\\\\all_data_waseem.csv\")"
   ]
  },
  {
   "cell_type": "code",
   "execution_count": 6,
   "metadata": {},
   "outputs": [],
   "source": [
    "df_ = main_df[main_df[\"Class\"] != \"neither\"]"
   ]
  },
  {
   "cell_type": "code",
   "execution_count": 29,
   "metadata": {},
   "outputs": [],
   "source": [
    "train_df = df_[(~df_[\"id\"].isin(dev_set_ids)) & ~(df_[\"id\"].isin(test_set_ids))]"
   ]
  },
  {
   "cell_type": "code",
   "execution_count": 28,
   "metadata": {},
   "outputs": [],
   "source": [
    "dev_test_df = df_[(df_[\"id\"].isin(dev_set_ids)) | (df_[\"id\"].isin(test_set_ids))]"
   ]
  },
  {
   "cell_type": "code",
   "execution_count": 32,
   "metadata": {},
   "outputs": [],
   "source": [
    "dev_test = []\n",
    "for idx, row in dev_test_df.iterrows():\n",
    "    result = translator.translate_text(row[1], target_lang=\"DA\").text\n",
    "    dev_test.append((row[0],result,row[2]))"
   ]
  },
  {
   "cell_type": "code",
   "execution_count": 35,
   "metadata": {},
   "outputs": [],
   "source": [
    "da_dev_test_df = pd.DataFrame(dev_test, columns=[\"id\",\"text\",\"Class\"])"
   ]
  },
  {
   "cell_type": "code",
   "execution_count": null,
   "metadata": {},
   "outputs": [],
   "source": [
    "train = []\n",
    "for idx, row in train_df.iterrows():\n",
    "    result = translator.translate_text(row[1], target_lang=\"DA\").text\n",
    "    train.append((row[0],result,row[2]))"
   ]
  },
  {
   "cell_type": "code",
   "execution_count": null,
   "metadata": {},
   "outputs": [],
   "source": [
    "for tweet in df_[\"text\"]:\n",
    "    danskText.append(translator.translate_text(tweet, target_lang=\"DA\").text)"
   ]
  },
  {
   "cell_type": "code",
   "execution_count": 16,
   "metadata": {},
   "outputs": [
    {
     "data": {
      "text/plain": [
       "587152"
      ]
     },
     "execution_count": 16,
     "metadata": {},
     "output_type": "execute_result"
    }
   ],
   "source": [
    "sum([len(tweet) for tweet in df_[\"text\"]])"
   ]
  },
  {
   "cell_type": "code",
   "execution_count": null,
   "metadata": {},
   "outputs": [],
   "source": []
  }
 ],
 "metadata": {
  "interpreter": {
   "hash": "19bbe116319a3d197a3ddb38a16045fea2deda13e9c9b86a0bbeaa5509e6cc3c"
  },
  "kernelspec": {
   "display_name": "Python 3.8.5 ('base')",
   "language": "python",
   "name": "python3"
  },
  "language_info": {
   "codemirror_mode": {
    "name": "ipython",
    "version": 3
   },
   "file_extension": ".py",
   "mimetype": "text/x-python",
   "name": "python",
   "nbconvert_exporter": "python",
   "pygments_lexer": "ipython3",
   "version": "3.8.5"
  },
  "orig_nbformat": 4
 },
 "nbformat": 4,
 "nbformat_minor": 2
}
