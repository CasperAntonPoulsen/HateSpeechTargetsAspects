{
 "cells": [
  {
   "cell_type": "code",
   "execution_count": 2,
   "metadata": {},
   "outputs": [],
   "source": [
    "import json\n",
    "import pandas as pd"
   ]
  },
  {
   "cell_type": "code",
   "execution_count": 3,
   "metadata": {},
   "outputs": [],
   "source": [
    "dev_set_ids = json.load(open(\"data/post_ids_dev.json\", \"r\"))\n",
    "test_set_ids = json.load(open(\"data/post_ids_test.json\", \"r\"))\n",
    "main_df = pd.read_csv(\"data/all_data_waseem_da.csv\")\n",
    "annotation_dev_df = pd.read_csv(\"data/annotation_dev.tsv\", sep=\"\\t\")\n",
    "annotation_test_df = pd.read_csv(\"data/annotation_test.tsv\", sep=\"\\t\")"
   ]
  },
  {
   "cell_type": "code",
   "execution_count": 11,
   "metadata": {},
   "outputs": [],
   "source": [
    "pd.DataFrame([[id,None,None,None,None,None,None] for id in dev_set_ids],columns=[\"id\",\n",
    "                                                                         \"Target1\",\n",
    "                                                                         \"Aspect1\",\n",
    "                                                                         \"Target2\",\n",
    "                                                                         \"Aspect2\",\n",
    "                                                                         \"Target3\",\n",
    "                                                                         \"Aspect3\"]).to_excel(\"annotation_dev_da.xlsx\", index=False)"
   ]
  },
  {
   "cell_type": "code",
   "execution_count": 4,
   "metadata": {},
   "outputs": [],
   "source": [
    "annotation_dev_df[\"id\"] = dev_set_ids\n",
    "annotation_test_df[\"id\"] =  test_set_ids"
   ]
  },
  {
   "cell_type": "code",
   "execution_count": 5,
   "metadata": {},
   "outputs": [],
   "source": [
    "dev_df = annotation_dev_df.set_index(\"id\").join(main_df.set_index(\"id\"), on=\"id\", how=\"inner\")\n",
    "test_df = annotation_test_df.set_index(\"id\").join(main_df.set_index(\"id\"), on=\"id\", how=\"inner\")"
   ]
  }
 ],
 "metadata": {
  "interpreter": {
   "hash": "19bbe116319a3d197a3ddb38a16045fea2deda13e9c9b86a0bbeaa5509e6cc3c"
  },
  "kernelspec": {
   "display_name": "Python 3.9.7 ('base')",
   "language": "python",
   "name": "python3"
  },
  "language_info": {
   "codemirror_mode": {
    "name": "ipython",
    "version": 3
   },
   "file_extension": ".py",
   "mimetype": "text/x-python",
   "name": "python",
   "nbconvert_exporter": "python",
   "pygments_lexer": "ipython3",
   "version": "3.9.7"
  },
  "orig_nbformat": 4
 },
 "nbformat": 4,
 "nbformat_minor": 2
}
